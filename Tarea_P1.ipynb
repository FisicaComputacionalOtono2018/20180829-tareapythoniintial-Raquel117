{
  "nbformat": 4,
  "nbformat_minor": 0,
  "metadata": {
    "colab": {
      "name": "Tarea-P1.ipynb",
      "version": "0.3.2",
      "provenance": []
    },
    "kernelspec": {
      "name": "python3",
      "display_name": "Python 3"
    }
  },
  "cells": [
    {
      "metadata": {
        "id": "SPgMf3tqKwwl",
        "colab_type": "text"
      },
      "cell_type": "markdown",
      "source": [
        "De le solución y convierta en código pyton los siguientes problemas. \n",
        "\n",
        "\n",
        "1. Escriba una función que calcula el ángulo entre dos vectores.\n",
        "2. Escriba una función que devuelva los 3 ángulos con respecto a los ejes x, y y z de un vector tridimencional.\n",
        "3. Escriba una función que calcule el producto vectorial entre dos vectores tridimensionales.\n",
        "4. Traduzca el diagrama de flujo mostrado en la imagen al lenguaje Python y describa lo que realiza. \n",
        "![alt text](http://isapedraza.web.cern.ch/isapedraza/tmpWork/FisicaComputacional/diagrama.png)\n",
        "\n",
        "5. Diseñar un algoritmo en python que imprima y sume una serie la serie de números 3,6,9,12,...,99\n",
        "6. Escribir un algoritmo en python que lea cuatro números y que al final escriba el mayor de los cuatro.\n",
        "7. Diseñar un algorimo  en pytohn para calcular la velocidad (en m/s) de los corredores de la carrera de 1.500 metros. La entrada consistirá en parejas de números (minutos y segundos) que dan el tiempo del corredos; por cada corredor, el algoritmo debe imprimir el tiempo en minutos y segundos, así como la velocidad media. \n",
        "  Ejemplo de entrada de datos: (3,53)(3,40)(3,46)(3,52)(4,0)(0,0). El último par de datos se utilizará como fin de entrada de datos. \n",
        " \n",
        "8. Escribir un algoritmo que calcule la superficie de un triángulo en función de la base y la altura. ($A= 1/2 *Base * Altura$)\n",
        " \n",
        "9. Un sistema de ecuaciones lineales \n",
        " \\begin{equation}\n",
        "ax + by = c\n",
        " \\end{equation}\n",
        "\\begin{equation}\n",
        "dx + ey = f\n",
        "\\end{equation}\n",
        " \n",
        " se puede resolver con las siguientes fórmulas: \n",
        "\\begin{equation}\n",
        "x = \\frac{ce-bf}{ae-bd}\n",
        "\\end{equation}\n",
        "\n",
        "\\begin{equation}\n",
        "y = \\frac{af-cd}{ae-bd}\n",
        "\\end{equation}\n",
        "\n",
        "\n",
        "10. Diseñar un programa en Python que lea los dos conjutnos de coeficientes (a,b y c; d,e y f) y visualice los valores de $x$ y $y$. \n",
        " \n",
        " 11. Diseñe un programa que grafique las siguietes funciones en una misma gráfica. En el rango de -10 a 15. \n",
        " \\begin{equation}\n",
        "f1(x) = 2x^2 + 5x - 2\n",
        "\\end{equation}\n",
        "\\begin{equation}\n",
        "f2(x) = 4x + 1\n",
        "\\end{equation}\n",
        "---\n",
        "\n",
        "\n",
        "\n",
        "---\n",
        "\n",
        "\n",
        "\n",
        " "
      ]
    },
    {
      "metadata": {
        "id": "11a0EIvubSQ_",
        "colab_type": "code",
        "colab": {
          "base_uri": "https://localhost:8080/",
          "height": 136
        },
        "outputId": "4bc987ba-94f4-414e-ece9-ce1f3017e9b9"
      },
      "cell_type": "code",
      "source": [
        "#Problema 1\n",
        "\n",
        "import numpy as np\n",
        "\n",
        "def pro(a,b):\n",
        "  return np.dot(a,b)\n",
        "\n",
        "# np.linalg.norm(x), comando para obtener la magnitud de un vector:\n",
        "def mag(a):\n",
        "  return np.linalg.norm(a)\n",
        "\n",
        "x1 = float(input(\"Coordenada x1: \"))\n",
        "y1 = float(input(\"Coordenada y1: \"))\n",
        "z1 = float(input(\"Coordenada z1: \"))\n",
        "\n",
        "x2 = float(input(\"Coordenada x2: \"))\n",
        "y2 = float(input(\"Coordenada y2: \"))\n",
        "z2 = float(input(\"Coordenada z2: \"))\n",
        "\n",
        "r = [x1, y1, z1]\n",
        "s = [x2, y2, z2]\n",
        "\n",
        "t = pro(r,s)\n",
        "u = mag(r)*mag(s)\n",
        "\n",
        "ang = np.degrees(np.arccos(t/u))\n",
        "\n",
        "print(\"Angulo: \", ang, \"grados\")"
      ],
      "execution_count": 0,
      "outputs": [
        {
          "output_type": "stream",
          "text": [
            "Coordenada x1: 0\n",
            "Coordenada y1: 1\n",
            "Coordenada z1: 0\n",
            "Coordenada x2: 1\n",
            "Coordenada y2: 1\n",
            "Coordenada z2: 0\n",
            "Angulo:  45.00000000000001 grados\n"
          ],
          "name": "stdout"
        }
      ]
    },
    {
      "metadata": {
        "id": "MppgORhEoHRG",
        "colab_type": "code",
        "colab": {
          "base_uri": "https://localhost:8080/",
          "height": 119
        },
        "outputId": "d1fb5e36-679e-435f-e321-7918a312ad09"
      },
      "cell_type": "code",
      "source": [
        "#Problema 2\n",
        "\n",
        "import numpy as np\n",
        "\n",
        "def mag(a):\n",
        "  return np.linalg.norm(a)\n",
        "\n",
        "x = float(input(\"Coordenada x: \"))\n",
        "y = float(input(\"Coordenada y: \"))\n",
        "z = float(input(\"Coordenada z: \"))\n",
        "\n",
        "# np.arctan2, comando para obtener angulo dado por dos valores: \n",
        "alpha = np.degrees(np.arctan2(x,y))\n",
        "beta = np.degrees(np.arctan2(y,z))\n",
        "gamma = np.degrees(np.arctan2(z,x))\n",
        "\n",
        "print(\"Alpha: \", alpha, \"grados\")\n",
        "print(\"Beta: \", beta, \"grados\")\n",
        "print(\"Gamma: \", gamma, \"grados\")"
      ],
      "execution_count": 0,
      "outputs": [
        {
          "output_type": "stream",
          "text": [
            "Coordenada x: 1\n",
            "Coordenada y: 1\n",
            "Coordenada z: 1\n",
            "Alpha:  45.0 grados\n",
            "Beta:  45.0 grados\n",
            "Gamma:  45.0 grados\n"
          ],
          "name": "stdout"
        }
      ]
    },
    {
      "metadata": {
        "id": "Ii-zqrRFvh4W",
        "colab_type": "code",
        "colab": {
          "base_uri": "https://localhost:8080/",
          "height": 136
        },
        "outputId": "6c51b717-b8d2-48ed-abc0-e6885edec18c"
      },
      "cell_type": "code",
      "source": [
        "#Problema 3\n",
        "\n",
        "import numpy as np\n",
        "\n",
        "x1 = float(input(\"Coordenada x1: \"))\n",
        "y1 = float(input(\"Coordenada y1: \"))\n",
        "z1 = float(input(\"Coordenada z1: \"))\n",
        "\n",
        "x2 = float(input(\"Coordenada x2: \"))\n",
        "y2 = float(input(\"Coordenada y2: \"))\n",
        "z2 = float(input(\"Coordenada z2: \"))\n",
        "\n",
        "r = [x1, y1, z1]\n",
        "s = [x2, y2, z2]\n",
        "\n",
        "proc = np.cross(r,s)\n",
        "\n",
        "print(\"Componentes i, j, k: \", proc)\n",
        "\n"
      ],
      "execution_count": 0,
      "outputs": [
        {
          "output_type": "stream",
          "text": [
            "Coordenada x1: 1\n",
            "Coordenada y1: 2\n",
            "Coordenada z1: 3\n",
            "Coordenada x2: 3\n",
            "Coordenada y2: 2\n",
            "Coordenada z2: 1\n",
            "Componentes i, j, k:  [-4.  8. -4.]\n"
          ],
          "name": "stdout"
        }
      ]
    },
    {
      "metadata": {
        "id": "vZbaosptyngt",
        "colab_type": "code",
        "colab": {
          "base_uri": "https://localhost:8080/",
          "height": 51
        },
        "outputId": "11dfb16a-c6d4-416b-e986-5c48d09eac41"
      },
      "cell_type": "code",
      "source": [
        "#Problema 4\n",
        "\n",
        "x=1\n",
        "while x<=5:\n",
        "  \n",
        "  if x%3==0:\n",
        "    x=x+2\n",
        "    \n",
        "  else:\n",
        "    print(x)\n",
        "    x=x+2"
      ],
      "execution_count": 0,
      "outputs": [
        {
          "output_type": "stream",
          "text": [
            "1\n",
            "5\n"
          ],
          "name": "stdout"
        }
      ]
    },
    {
      "metadata": {
        "id": "qEYV6CCmzSgQ",
        "colab_type": "code",
        "colab": {
          "base_uri": "https://localhost:8080/",
          "height": 51
        },
        "outputId": "e77e262d-8e66-4f3e-8ad6-6c8661e1155a"
      },
      "cell_type": "code",
      "source": [
        "#Problema 5\n",
        "\n",
        "s = []\n",
        "\n",
        "#Tomara el rango de forma parecida a [1,34) = [1,33]:\n",
        "for x in range (1,34):\n",
        "  s.append(x*3)\n",
        "print(s)\n",
        "\n",
        "y = 0\n",
        "\n",
        "for i in s:\n",
        "  y = y+i\n",
        "print(\"Suma: \", y)"
      ],
      "execution_count": 0,
      "outputs": [
        {
          "output_type": "stream",
          "text": [
            "[3, 6, 9, 12, 15, 18, 21, 24, 27, 30, 33, 36, 39, 42, 45, 48, 51, 54, 57, 60, 63, 66, 69, 72, 75, 78, 81, 84, 87, 90, 93, 96, 99]\n",
            "Suma:  1683\n"
          ],
          "name": "stdout"
        }
      ]
    },
    {
      "metadata": {
        "id": "IJlPibouAqLL",
        "colab_type": "code",
        "colab": {
          "base_uri": "https://localhost:8080/",
          "height": 102
        },
        "outputId": "29ef55fd-2156-4ea9-8a85-096c9d7e221a"
      },
      "cell_type": "code",
      "source": [
        "#Problema 6\n",
        "\n",
        "a = float(input(\"Primer numero: \"))\n",
        "b = float(input(\"Segundo numero: \"))\n",
        "c = float(input(\"Tercer numero: \"))\n",
        "d = float(input(\"Cuarto numero: \"))\n",
        "\n",
        "r = [a, b, c, d]\n",
        "\n",
        "print(\"Numero mayor: \", max(r))"
      ],
      "execution_count": 9,
      "outputs": [
        {
          "output_type": "stream",
          "text": [
            "Primer numero: 5\n",
            "Segundo numero: 9\n",
            "Tercer numero: 2\n",
            "Cuarto numero: 14\n",
            "Numero mayor:  14.0\n"
          ],
          "name": "stdout"
        }
      ]
    },
    {
      "metadata": {
        "id": "jHIblC8vwFRv",
        "colab_type": "code",
        "colab": {
          "base_uri": "https://localhost:8080/",
          "height": 51
        },
        "outputId": "b73049c7-0d9e-4007-838a-49560654820e"
      },
      "cell_type": "code",
      "source": [
        "#Problema 7\n",
        "\n",
        "import numpy as np\n",
        "\n",
        "def vel(x):\n",
        "  return (d/t)\n",
        "\n",
        "d = 1500\n",
        "\n",
        "strdata = input(\"Distancia y tiempo en formato (minutos,segundos). (0,0) para finalizar ala entrada de datos: \")\n",
        "\n",
        "strdata = strdata.replace(')(', ' ').replace('(', ' ').replace(')', ' ').replace(',', ' ')\n",
        "\n",
        "r = [strdata]\n",
        "\n",
        "print(r)\n",
        "\n"
      ],
      "execution_count": 12,
      "outputs": [
        {
          "output_type": "stream",
          "text": [
            "Distancia y tiempo en formato (minutos,segundos). (0,0) para finalizar ala entrada de datos: (8,5)(4,7)(4,4)(0,0)\n",
            "[' 8 5 4 7 4 4 0 0 ']\n"
          ],
          "name": "stdout"
        }
      ]
    },
    {
      "metadata": {
        "id": "Q2vuVhr2wIiS",
        "colab_type": "code",
        "colab": {
          "base_uri": "https://localhost:8080/",
          "height": 68
        },
        "outputId": "760e6743-58d4-4be5-f92f-0fe51724c14e"
      },
      "cell_type": "code",
      "source": [
        "#Problema 8\n",
        "\n",
        "b = float(input(\"Base: \"))\n",
        "h = float(input(\"Altura: \"))\n",
        "\n",
        "A = (b*h)/(2)\n",
        "\n",
        "print(\"Area: \", A)"
      ],
      "execution_count": 6,
      "outputs": [
        {
          "output_type": "stream",
          "text": [
            "Base: 8\n",
            "Altura: 4\n",
            "Area:  16.0\n"
          ],
          "name": "stdout"
        }
      ]
    },
    {
      "metadata": {
        "id": "HFMMm8xq4voO",
        "colab_type": "code",
        "colab": {
          "base_uri": "https://localhost:8080/",
          "height": 187
        },
        "outputId": "15b48010-b358-415a-d9d4-7740378c2e10"
      },
      "cell_type": "code",
      "source": [
        "#Problema 9\n",
        "\n",
        "import numpy as np\n",
        "\n",
        "a = float(input(\"Coeficiente a: \"))\n",
        "b = float(input(\"Coeficiente b: \"))\n",
        "c = float(input(\"Coeficiente c: \"))\n",
        "d = float(input(\"Coeficiente d: \"))\n",
        "e = float(input(\"Coeficiente e: \"))\n",
        "f = float(input(\"Coeficiente f: \"))\n",
        "\n",
        "print(a, \"x + \", b, \"y = \", c)\n",
        "print(d, \"x + \", e, \"y = \", f)\n",
        "\n",
        "x = ((c*e)-(b*f))/((a*e)-(b*d))\n",
        "y = ((a*f)-(c*d))/((a*e)-(b*d))\n",
        "\n",
        "print(\"Variable x: \", x)\n",
        "print(\"Variable y: \", y)"
      ],
      "execution_count": 4,
      "outputs": [
        {
          "output_type": "stream",
          "text": [
            "Coeficiente a: 1\n",
            "Coeficiente b: 2\n",
            "Coeficiente c: 3\n",
            "Coeficiente d: 3\n",
            "Coeficiente e: 2\n",
            "Coeficiente f: 1\n",
            "1.0 x +  2.0 y =  3.0\n",
            "3.0 x +  2.0 y =  1.0\n",
            "Variable x:  -1.0\n",
            "Variable y:  2.0\n"
          ],
          "name": "stdout"
        }
      ]
    },
    {
      "metadata": {
        "id": "6b1w8G918wWU",
        "colab_type": "code",
        "colab": {
          "base_uri": "https://localhost:8080/",
          "height": 347
        },
        "outputId": "db853d95-13cf-4a0b-eb3d-10c8aa2a7905"
      },
      "cell_type": "code",
      "source": [
        "#Problema 10\n",
        "\n",
        "import numpy as np\n",
        "import matplotlib.pyplot as plt\n",
        "\n",
        "def f1(y):\n",
        "  return 2*(y**2)+5*y-2\n",
        "\n",
        "def f2(z):\n",
        "  return (4*z)+1\n",
        "\n",
        "x = np.arange(-10.0, 15.0, 0.01)\n",
        "\n",
        "plt.figure(1)\n",
        "\n",
        "plt.plot(x, f1(x), 'k')\n",
        "plt.plot(x, f2(x), r'--')\n",
        "\n",
        "plt.show()"
      ],
      "execution_count": 0,
      "outputs": [
        {
          "output_type": "display_data",
          "data": {
            "image/png": "[encoded data removed]",
            "text/plain": [
              "<matplotlib.figure.Figure at 0x7f305821d400>"
            ]
          },
          "metadata": {
            "tags": []
          }
        }
      ]
    }
  ]
}